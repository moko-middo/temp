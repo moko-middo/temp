{
 "cells": [
  {
   "cell_type": "code",
   "execution_count": 3,
   "id": "0b93dab1-bf3d-498a-bc1d-ee13d37b9e9f",
   "metadata": {
    "tags": []
   },
   "outputs": [
    {
     "ename": "NameError",
     "evalue": "name 'xBCD' is not defined",
     "output_type": "error",
     "traceback": [
      "\u001b[1;31m---------------------------------------------------------------------------\u001b[0m",
      "\u001b[1;31mNameError\u001b[0m                                 Traceback (most recent call last)",
      "Cell \u001b[1;32mIn[3], line 49\u001b[0m\n\u001b[0;32m     46\u001b[0m alpha \u001b[38;5;241m=\u001b[39m \u001b[38;5;241m0.1\u001b[39m \u001b[38;5;66;03m# [rad] スリップ角\u001b[39;00m\n\u001b[0;32m     48\u001b[0m \u001b[38;5;66;03m# 縦方向タイヤ力の計算\u001b[39;00m\n\u001b[1;32m---> 49\u001b[0m Fx \u001b[38;5;241m=\u001b[39m \u001b[43mmagic_formula_longitudinal\u001b[49m\u001b[43m(\u001b[49m\u001b[43mFz\u001b[49m\u001b[43m,\u001b[49m\u001b[43m \u001b[49m\u001b[43mFz0\u001b[49m\u001b[43m,\u001b[49m\u001b[43m \u001b[49m\u001b[43mC\u001b[49m\u001b[43m,\u001b[49m\u001b[43m \u001b[49m\u001b[43mD\u001b[49m\u001b[43m,\u001b[49m\u001b[43m \u001b[49m\u001b[43mE\u001b[49m\u001b[43m)\u001b[49m\n\u001b[0;32m     51\u001b[0m \u001b[38;5;66;03m# 横方向タイヤ力の計算\u001b[39;00m\n\u001b[0;32m     52\u001b[0m B \u001b[38;5;241m=\u001b[39m \u001b[38;5;241m10\u001b[39m     \u001b[38;5;66;03m# [-] 形状係数\u001b[39;00m\n",
      "Cell \u001b[1;32mIn[3], line 15\u001b[0m, in \u001b[0;36mmagic_formula_longitudinal\u001b[1;34m(Fz, Fz0, C, D, E)\u001b[0m\n\u001b[0;32m     13\u001b[0m x \u001b[38;5;241m=\u001b[39m Fz \u001b[38;5;241m/\u001b[39m Fz0\n\u001b[0;32m     14\u001b[0m BCD \u001b[38;5;241m=\u001b[39m D \u001b[38;5;241m/\u001b[39m (C \u001b[38;5;241m*\u001b[39m E)\n\u001b[1;32m---> 15\u001b[0m Fx \u001b[38;5;241m=\u001b[39m C \u001b[38;5;241m*\u001b[39m math\u001b[38;5;241m.\u001b[39msin(\u001b[38;5;241m2\u001b[39m \u001b[38;5;241m*\u001b[39m math\u001b[38;5;241m.\u001b[39matan(x \u001b[38;5;241m*\u001b[39m BCD \u001b[38;5;241m-\u001b[39m E \u001b[38;5;241m*\u001b[39m (\u001b[43mxBCD\u001b[49m \u001b[38;5;241m-\u001b[39m math\u001b[38;5;241m.\u001b[39matan(x \u001b[38;5;241m*\u001b[39m BCD)))) \\\n\u001b[0;32m     16\u001b[0m      \u001b[38;5;241m*\u001b[39m (\u001b[38;5;241m1\u001b[39m \u001b[38;5;241m-\u001b[39m D \u001b[38;5;241m*\u001b[39m math\u001b[38;5;241m.\u001b[39mfabs(math\u001b[38;5;241m.\u001b[39msin(C \u001b[38;5;241m*\u001b[39m math\u001b[38;5;241m.\u001b[39matan(x \u001b[38;5;241m*\u001b[39m BCD))) \u001b[38;5;241m*\u001b[39m\u001b[38;5;241m*\u001b[39m E)\n\u001b[0;32m     17\u001b[0m \u001b[38;5;28;01mreturn\u001b[39;00m Fx\n",
      "\u001b[1;31mNameError\u001b[0m: name 'xBCD' is not defined"
     ]
    }
   ],
   "source": [
    "import math\n",
    "\n",
    "def magic_formula_longitudinal(Fz, Fz0, C, D, E):\n",
    "    \"\"\"\n",
    "    Magic Formula for longitudinal force\n",
    "    :param Fz: Vertical load on the tire [N]\n",
    "    :param Fz0: Nominal tire load [N]\n",
    "    :param C: Shape factor\n",
    "    :param D: Peak factor\n",
    "    :param E: Curvature factor\n",
    "    :return: Longitudinal force [N]\n",
    "    \"\"\"\n",
    "    x = Fz / Fz0\n",
    "    BCD = D / (C * E)\n",
    "    Fx = C * math.sin(2 * math.atan(x * BCD - E * (xBCD - math.atan(x * BCD)))) \\\n",
    "         * (1 - D * math.fabs(math.sin(C * math.atan(x * BCD))) ** E)\n",
    "    return Fx\n",
    "\n",
    "def magic_formula_lateral(Fz, Fz0, B, C, D, E, alpha):\n",
    "    \"\"\"\n",
    "    Magic Formula for lateral force\n",
    "    :param Fz: Vertical load on the tire [N]\n",
    "    :param Fz0: Nominal tire load [N]\n",
    "    :param B: Shape factor\n",
    "    :param C: Shape factor\n",
    "    :param D: Peak factor\n",
    "    :param E: Curvature factor\n",
    "    :param alpha: Slip angle [rad]\n",
    "    :return: Lateral force [N]\n",
    "    \"\"\"\n",
    "    x = Fz / Fz0\n",
    "    ByC = B * math.sin(C * math.atan(x / D - E * (x / D - math.atan(x / D))))\n",
    "    Cy = C\n",
    "    Ey = E\n",
    "    alpha_s = math.atan(alpha + ByC)\n",
    "    Fy = Cy * math.sin(alpha_s) + Ey * (Cy * math.sin(alpha_s) - math.tan(Cy * math.atan(alpha_s))) \\\n",
    "         * math.fabs(math.sin(D * math.atan(Cy * alpha_s)) / (D * math.atan(Cy * alpha_s)))\n",
    "    return Fy\n",
    "\n",
    "# パラメータの設定\n",
    "Fz = 3000   # [N] 縦方向荷重\n",
    "Fz0 = 3000  # [N] ノミナル荷重\n",
    "C = 1.2     # [-] 形状係数\n",
    "D = 1.0     # [-] ピーク係数\n",
    "E = 0.8     # [-] 曲率係数\n",
    "alpha = 0.1 # [rad] スリップ角\n",
    "\n",
    "# 縦方向タイヤ力の計算\n",
    "Fx = magic_formula_longitudinal(Fz, Fz0, C, D, E)\n",
    "\n",
    "# 横方向タイヤ力の計算\n",
    "B = 10     # [-] 形状係数\n",
    "C = 1.2    # [-] 形状係数\n",
    "D = 1.0    # [-] ピーク係数\n",
    "E = 0.8    # [-] 曲率係数\n",
    "Fy = magic_formula_lateral(Fz, Fz0, B, C, D, E, alpha)\n",
    "\n",
    "print(\"Fx: {:.2f} N\".format(Fx))\n",
    "print(\"Fy: {:.2f} N\".format(Fy))\n"
   ]
  }
 ],
 "metadata": {
  "kernelspec": {
   "display_name": "Python 3 (ipykernel)",
   "language": "python",
   "name": "python3"
  },
  "language_info": {
   "codemirror_mode": {
    "name": "ipython",
    "version": 3
   },
   "file_extension": ".py",
   "mimetype": "text/x-python",
   "name": "python",
   "nbconvert_exporter": "python",
   "pygments_lexer": "ipython3",
   "version": "3.10.8"
  }
 },
 "nbformat": 4,
 "nbformat_minor": 5
}
