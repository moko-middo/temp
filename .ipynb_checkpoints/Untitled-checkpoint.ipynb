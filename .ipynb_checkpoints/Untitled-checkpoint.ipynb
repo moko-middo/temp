{
 "cells": [
  {
   "cell_type": "markdown",
   "id": "0d0a41b7-fb73-4d65-a8d0-1386e090b578",
   "metadata": {},
   "source": [
    "$$\n",
    "\\begin{aligned}\n",
    "K_f^*=\\frac{\\frac{m_f}{2} \\cdot \\alpha}{\\theta_1} \\\\\n",
    "K_r^*=\\frac{\\frac{m_r}{2} \\cdot \\alpha}{\\theta_2} \\\\\n",
    "K_f^*= \\frac{K_{f}}{1 + K_{f} \\cdot q_{\\text{fpure}}} \\\\\n",
    "K_r^*= \\frac{K_{r}}{1 - K_{r} \\cdot q_{\\text{rpure}}} \\\\\n",
    "q_{\\text{fpure}} = q_{\\text{ftp30}} + q_{\\text{froll}}\\cdot \\operatorname{\\theta r} \\cdot \\frac{1}{\\frac{m_{f}}{2} \\cdot \\alpha} \\\\\n",
    "q_{\\text{rpure}} = q_{\\text{rtp30}} + q_{\\text{rroll}} \\cdot \\operatorname{\\theta r} \\cdot \\frac{1}{\\frac{m_{r}}{2} \\cdot \\alpha}\\\\\n",
    "K_f = \\frac{\\frac{\\frac{m_f}{2} \\cdot \\alpha}{\\theta_1}}{1 - \\frac{\\frac{m_f}{2} \\cdot \\alpha}{\\theta_1} \\cdot (q_{\\text{ftp30}} + q_{\\text{froll}} \\cdot \\theta_r \\cdot \\frac{1}{\\frac{m_f}{2} \\cdot \\alpha})} \\\\\n",
    "K_r = \\frac{\\frac{\\frac{m_r}{2} \\cdot \\alpha}{\\theta_2}}{1 + \\frac{\\frac{m_r}{2} \\cdot \\alpha}{\\theta_2} \\cdot (q_{\\text{rtp30}} + q_{\\text{rroll}} \\cdot \\theta_r \\cdot \\frac{1}{\\frac{m_r}{2} \\cdot \\alpha})}\n",
    "\\end{aligned}\n",
    "$$"
   ]
  },
  {
   "cell_type": "code",
   "execution_count": null,
   "id": "922988c3-8d98-4704-ab16-9d42d2400586",
   "metadata": {},
   "outputs": [],
   "source": []
  }
 ],
 "metadata": {
  "kernelspec": {
   "display_name": "Python 3 (ipykernel)",
   "language": "python",
   "name": "python3"
  },
  "language_info": {
   "codemirror_mode": {
    "name": "ipython",
    "version": 3
   },
   "file_extension": ".py",
   "mimetype": "text/x-python",
   "name": "python",
   "nbconvert_exporter": "python",
   "pygments_lexer": "ipython3",
   "version": "3.10.8"
  }
 },
 "nbformat": 4,
 "nbformat_minor": 5
}
