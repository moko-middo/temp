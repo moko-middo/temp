{
 "cells": [
  {
   "cell_type": "markdown",
   "id": "b933505a-847c-41eb-bd3f-3608456c1733",
   "metadata": {},
   "source": [
    "$\\frac{r(s)}{\\delta(s)}=G_{\\delta}^{r}(0) \\frac{1+T_{r} s}{1+\\frac{2 \\zeta s}{\\omega_{n}}+\\frac{s^{2}}{\\omega_{n}^{2}}}$\n",
    "\n",
    "$G_{\\delta}^{r}(0)=\\frac{1}{1+A V^{2}} \\frac{V}{l}$\n",
    "$G(0)=\\frac{1}{1+A V^{2}} \\frac{V}{Nl}$\n",
    "\n",
    "$$\n",
    "\\zeta=\\frac{m\\left(l_{f}^{2} K_{f}+l_{r}^{2} K_{r}\\right)+I\\left(K_{f}+K_{r}\\right)}{2 l \\sqrt{m I K_{f} K_{r}\\left(1+A V^{2}\\right)}}\n",
    "$$\n",
    "\n",
    "$T_{r}=\\frac{m l_{f} V}{2 l K_{r}}$\n",
    "\n",
    "$$\n",
    "\\begin{gathered}\n",
    "G_{\\delta}^{\\beta}(0)=\\frac{1-\\frac{m}{2 l} \\frac{l_{f}}{l_{r} K_{r}} V^{2}}{1+A V^{2}} \\frac{l_{r}}{l} \n",
    "\\end{gathered}\n",
    "$$\n",
    "\n",
    "$$\n",
    "\\begin{aligned}\n",
    "K_f = \\frac{m_f \\cdot a}{2 \\cdot \\theta_1}\n",
    "K_r = \\frac{m_r \\cdot a}{2 \\cdot \\theta_2}\n",
    "A = -\\frac{1}{l} \\left(\\frac{\\theta_2}{a} - \\frac{\\theta_1}{a} \\right)\n",
    "\\omega_n = \\frac{2 l}{V} \\sqrt{\\frac{K_f K_r}{m I}} \\sqrt{1 + A V^{2}}\n",
    "\\end{aligned}\n",
    "$$\n",
    "\n"
   ]
  },
  {
   "cell_type": "code",
   "execution_count": null,
   "id": "5c5c6d46-639d-4841-acc7-9e8c9f6dcd04",
   "metadata": {},
   "outputs": [],
   "source": []
  }
 ],
 "metadata": {
  "kernelspec": {
   "display_name": "Python 3 (ipykernel)",
   "language": "python",
   "name": "python3"
  },
  "language_info": {
   "codemirror_mode": {
    "name": "ipython",
    "version": 3
   },
   "file_extension": ".py",
   "mimetype": "text/x-python",
   "name": "python",
   "nbconvert_exporter": "python",
   "pygments_lexer": "ipython3",
   "version": "3.10.8"
  }
 },
 "nbformat": 4,
 "nbformat_minor": 5
}
