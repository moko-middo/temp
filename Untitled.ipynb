{
 "cells": [
  {
   "cell_type": "code",
   "execution_count": 29,
   "id": "b1f69918-39fe-4251-919d-8380d800ae6c",
   "metadata": {
    "tags": []
   },
   "outputs": [
    {
     "ename": "AttributeError",
     "evalue": "'numpy.ndarray' object has no attribute 'diff'",
     "output_type": "error",
     "traceback": [
      "\u001b[1;31m---------------------------------------------------------------------------\u001b[0m",
      "\u001b[1;31mAttributeError\u001b[0m                            Traceback (most recent call last)",
      "Cell \u001b[1;32mIn[29], line 6\u001b[0m\n\u001b[0;32m      3\u001b[0m \u001b[38;5;28;01mimport\u001b[39;00m \u001b[38;5;21;01mnumpy\u001b[39;00m \u001b[38;5;28;01mas\u001b[39;00m \u001b[38;5;21;01mnp\u001b[39;00m\n\u001b[0;32m      5\u001b[0m \u001b[38;5;66;03m# Solve the equations of motion\u001b[39;00m\n\u001b[1;32m----> 6\u001b[0m solution \u001b[38;5;241m=\u001b[39m solve(fr \u001b[38;5;241m+\u001b[39m frstar, (\u001b[43mu1\u001b[49m\u001b[38;5;241;43m.\u001b[39;49m\u001b[43mdiff\u001b[49m(), u2\u001b[38;5;241m.\u001b[39mdiff()))\n\u001b[0;32m      8\u001b[0m \u001b[38;5;66;03m# Use sympy's \"lambdify\" function to convert symbolic equations to numeric\u001b[39;00m\n\u001b[0;32m      9\u001b[0m numeric_sol \u001b[38;5;241m=\u001b[39m {\u001b[38;5;28mstr\u001b[39m(k): lambdify((q1, q2, u1, u2), v) \u001b[38;5;28;01mfor\u001b[39;00m k, v \u001b[38;5;129;01min\u001b[39;00m solution\u001b[38;5;241m.\u001b[39mitems()}\n",
      "\u001b[1;31mAttributeError\u001b[0m: 'numpy.ndarray' object has no attribute 'diff'"
     ]
    }
   ],
   "source": [
    "from sympy import solve, lambdify\n",
    "import matplotlib.pyplot as plt\n",
    "import numpy as np\n",
    "\n",
    "# Solve the equations of motion\n",
    "solution = solve(fr + frstar, (u1.diff(), u2.diff()))\n",
    "\n",
    "# Use sympy's \"lambdify\" function to convert symbolic equations to numeric\n",
    "numeric_sol = {str(k): lambdify((q1, q2, u1, u2), v) for k, v in solution.items()}\n",
    "\n",
    "# Define time array\n",
    "t = np.linspace(0, 10, 1000)  # 10 seconds\n",
    "\n",
    "# Initialize q1, q2, u1, u2\n",
    "q1_vals = np.zeros_like(t)\n",
    "q2_vals = np.zeros_like(t)\n",
    "u1_vals = np.zeros_like(t)\n",
    "u2_vals = np.zeros_like(t)\n",
    "\n",
    "# Set initial conditions\n",
    "q1_vals[0] = np.pi/6  # Initial angle for q1\n",
    "q2_vals[0] = np.pi/6  # Initial angle for q2\n",
    "\n",
    "# Step through time and solve numerically\n",
    "for i in range(1, len(t)):\n",
    "    dt = t[i] - t[i-1]\n",
    "    u1_vals[i] = u1_vals[i-1] + numeric_sol[\"Derivative(u1, t)\"](q1_vals[i-1], q2_vals[i-1], u1_vals[i-1], u2_vals[i-1])*dt\n",
    "    u2_vals[i] = u2_vals[i-1] + numeric_sol[\"Derivative(u2, t)\"](q1_vals[i-1], q2_vals[i-1], u1_vals[i-1], u2_vals[i-1])*dt\n",
    "    q1_vals[i] = q1_vals[i-1] + u1_vals[i]*dt\n",
    "    q2_vals[i] = q2_vals[i-1] + u2_vals[i]*dt\n",
    "\n",
    "# Plot q1 and q2 as functions of time\n",
    "plt.figure()\n",
    "plt.plot(t, q1_vals, label='q1')\n",
    "plt.plot(t, q2_vals, label='q2')\n",
    "plt.legend()\n",
    "plt.xlabel('Time [s]')\n",
    "plt.ylabel('Angle [rad]')\n",
    "plt.title('Time evolution of q1 and q2')\n",
    "plt.show()\n"
   ]
  },
  {
   "cell_type": "code",
   "execution_count": null,
   "id": "f469d26d-4e30-475f-be06-5380c7dc1581",
   "metadata": {},
   "outputs": [],
   "source": [
    "from sympy import solve, lambdify\n",
    "import matplotlib.pyplot as plt\n",
    "import numpy as np\n",
    "\n",
    "# Solve the equations of motion\n",
    "solution = solve(fr + frstar, (u1.diff(), u2.diff()))\n",
    "\n",
    "# Replace diff() with prime notation\n",
    "solution = {(str(k) + \"'\"): v for k, v in solution.items()}\n",
    "\n",
    "# Use sympy's \"lambdify\" function to convert symbolic equations to numeric\n",
    "numeric_sol = {k: lambdify((q1, q2, u1, u2), v) for k, v in solution.items()}\n",
    "\n",
    "# Define time array\n",
    "t = np.linspace(0, 10, 1000)  # 10 seconds\n",
    "\n",
    "# Initialize q1, q2, u1, u2\n",
    "q1_vals = np.zeros_like(t)\n",
    "q2_vals = np.zeros_like(t)\n",
    "u1_vals = np.zeros_like(t)\n",
    "u2_vals = np.zeros_like(t)\n",
    "\n",
    "# Set initial conditions\n",
    "q1_vals[0] = np.pi/6  # Initial angle for q1\n",
    "q2_vals[0] = np.pi/6  # Initial angle for q2\n",
    "\n",
    "# Step through time and solve numerically\n",
    "for i in range(1, len(t)):\n",
    "    dt = t[i] - t[i-1]\n",
    "    u1_vals[i] = u1_vals[i-1] + numeric_sol[\"u1'\"](q1_vals[i-1], q2_vals[i-1], u1_vals[i-1], u2_vals[i-1])*dt\n",
    "    u2_vals[i] = u2_vals[i-1] + numeric_sol[\"u2'\"](q1_vals[i-1], q2_vals[i-1], u1_vals[i-1], u2_vals[i-1])*dt\n",
    "    q1_vals[i] = q1_vals[i-1] + u1_vals[i]*dt\n",
    "    q2_vals[i] = q2_vals[i-1] + u2_vals[i]*dt\n",
    "\n",
    "# Plot q1 and q2 as functions of time\n",
    "plt.figure()\n",
    "plt.plot(t, q1_vals, label='q1')\n",
    "plt.plot(t, q2_vals, label='q2')\n",
    "plt.legend()\n",
    "plt.xlabel('Time [s]')\n",
    "plt.ylabel('Angle [rad]')\n",
    "plt.title('Time evolution of q1 and q2')\n",
    "plt.show()\n",
    "\n"
   ]
  }
 ],
 "metadata": {
  "kernelspec": {
   "display_name": "Python 3 (ipykernel)",
   "language": "python",
   "name": "python3"
  },
  "language_info": {
   "codemirror_mode": {
    "name": "ipython",
    "version": 3
   },
   "file_extension": ".py",
   "mimetype": "text/x-python",
   "name": "python",
   "nbconvert_exporter": "python",
   "pygments_lexer": "ipython3",
   "version": "3.10.8"
  }
 },
 "nbformat": 4,
 "nbformat_minor": 5
}
